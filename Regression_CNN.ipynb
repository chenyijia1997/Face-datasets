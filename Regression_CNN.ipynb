{
 "cells": [
  {
   "cell_type": "code",
   "execution_count": 29,
   "metadata": {
    "colab": {
     "base_uri": "https://localhost:8080/",
     "height": 122
    },
    "colab_type": "code",
    "executionInfo": {
     "elapsed": 24730,
     "status": "ok",
     "timestamp": 1594800407513,
     "user": {
      "displayName": "Mohamed Amine Arfaoui",
      "photoUrl": "https://lh3.googleusercontent.com/a-/AOh14GhlzdyV-vGbKI_Jrq1kmSSwYJkbC3L425wSnRWurg=s64",
      "userId": "17208576066499428517"
     },
     "user_tz": 240
    },
    "id": "fKXmghYfwSen",
    "outputId": "020f90a0-5bad-41f2-f804-8f1c07e376f4",
    "ExecuteTime": {
     "end_time": "2025-04-22T09:42:39.484742700Z",
     "start_time": "2025-04-22T09:42:39.471731100Z"
    }
   },
   "outputs": [],
   "source": [
    "# from google.colab import drive    #原来从谷歌云盘导入 现在从本地导入 进行注释\n",
    "#drive.mount('/content/gdrive')   # 挂载Google Drive（云端数据存储）   #不挂载Google Drive"
   ]
  },
  {
   "cell_type": "code",
   "execution_count": 30,
   "metadata": {
    "ExecuteTime": {
     "end_time": "2025-04-22T09:42:40.060117200Z",
     "start_time": "2025-04-22T09:42:40.030090600Z"
    }
   },
   "outputs": [
    {
     "name": "stdout",
     "output_type": "stream",
     "text": [
      "TensorFlow 版本: 2.11.0\n",
      "模块路径： c:\\users\\10978\\appdata\\local\\programs\\python\\python37\\lib\\site-packages\\tensorflow\\__init__.py\n",
      "Keras 版本: 2.11.0\n",
      "GPU 可用: False\n",
      "Num GPUs Available:  0\n",
      "CUDA Built: False\n",
      "GPUs: []\n"
     ]
    }
   ],
   "source": [
    "#测试tensorflow的GPU是否驱动\n",
    "import tensorflow as tf\n",
    "print(\"TensorFlow 版本:\", tf.__version__)  # 应输出 2.x.x（如 2.12.0）\n",
    "print(\"模块路径：\", tf.__file__)   #输出tensorflow目前路径\n",
    "print(\"Keras 版本:\", tf.keras.__version__)    \n",
    "print(\"GPU 可用:\", tf.test.is_gpu_available()) # 检查 GPU 是否可用\n",
    "gpus = tf.config.list_physical_devices('GPU')  \n",
    "print(\"Num GPUs Available: \", len(gpus))    #可用GPU的数量\n",
    "print(\"CUDA Built:\", tf.test.is_built_with_cuda())     #是否用CUDA成功驱动\n",
    "print(\"GPUs:\", tf.config.list_physical_devices('GPU'))     #列出GPU名"
   ]
  },
  {
   "cell_type": "code",
   "execution_count": 31,
   "metadata": {
    "ExecuteTime": {
     "end_time": "2025-04-22T09:42:40.670628700Z",
     "start_time": "2025-04-22T09:42:40.642607600Z"
    }
   },
   "outputs": [
    {
     "name": "stdout",
     "output_type": "stream",
     "text": [
      "1.0.2\n"
     ]
    }
   ],
   "source": [
    "import sklearn\n",
    "print(sklearn.__version__)  # 应输出版本号（如 1.2.2）"
   ]
  },
  {
   "cell_type": "code",
   "execution_count": 32,
   "metadata": {
    "colab": {
     "base_uri": "https://localhost:8080/",
     "height": 34
    },
    "colab_type": "code",
    "executionInfo": {
     "elapsed": 2667,
     "status": "ok",
     "timestamp": 1594800411527,
     "user": {
      "displayName": "Mohamed Amine Arfaoui",
      "photoUrl": "https://lh3.googleusercontent.com/a-/AOh14GhlzdyV-vGbKI_Jrq1kmSSwYJkbC3L425wSnRWurg=s64",
      "userId": "17208576066499428517"
     },
     "user_tz": 240
    },
    "id": "eg3QB0WjwWm2",
    "outputId": "c2a3c3b8-0f53-4362-dbb2-d581fba442c6",
    "ExecuteTime": {
     "end_time": "2025-04-22T09:42:41.234382200Z",
     "start_time": "2025-04-22T09:42:41.206353300Z"
    }
   },
   "outputs": [
    {
     "name": "stdout",
     "output_type": "stream",
     "text": [
      "引入库成功\n"
     ]
    }
   ],
   "source": [
    "import tensorflow as tf\n",
    "import numpy as np\n",
    "import pandas as pd\n",
    "\n",
    "from tensorflow.keras.models import Sequential\n",
    "from tensorflow.keras.layers import InputLayer, Input\n",
    "from tensorflow.keras.layers import Conv1D, Dense, Flatten, Activation \n",
    "from tensorflow.keras.layers import Reshape, Dropout, BatchNormalization\n",
    "from tensorflow.keras.optimizers import Adam\n",
    "from tensorflow.keras.layers import MaxPooling1D, GlobalAveragePooling1D   #引入两个池化模块 改进模型\n",
    "from sklearn.preprocessing import StandardScaler\n",
    "from sklearn.model_selection import train_test_split\n",
    "print(\"引入库成功\")\n",
    "import scipy.io as sio"
   ]
  },
  {
   "cell_type": "code",
   "execution_count": 33,
   "metadata": {
    "colab": {
     "base_uri": "https://localhost:8080/",
     "height": 35
    },
    "colab_type": "code",
    "executionInfo": {
     "elapsed": 443,
     "status": "ok",
     "timestamp": 1594800412630,
     "user": {
      "displayName": "Mohamed Amine Arfaoui",
      "photoUrl": "https://lh3.googleusercontent.com/a-/AOh14GhlzdyV-vGbKI_Jrq1kmSSwYJkbC3L425wSnRWurg=s64",
      "userId": "17208576066499428517"
     },
     "user_tz": 240
    },
    "id": "UiEH8-vMwnDN",
    "outputId": "c8664b6f-bf55-4941-d82e-72918634f477",
    "ExecuteTime": {
     "end_time": "2025-04-22T09:42:41.752290300Z",
     "start_time": "2025-04-22T09:42:41.720727100Z"
    }
   },
   "outputs": [
    {
     "data": {
      "text/plain": "''"
     },
     "execution_count": 33,
     "metadata": {},
     "output_type": "execute_result"
    }
   ],
   "source": [
    "tf.test.gpu_device_name()  #没有GPU驱动 用CPU跑"
   ]
  },
  {
   "cell_type": "code",
   "execution_count": 34,
   "metadata": {
    "colab": {
     "base_uri": "https://localhost:8080/",
     "height": 140,
     "resources": {
      "http://localhost:8080/nbextensions/google.colab/files.js": {
       "data": "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",
       "headers": [
        [
         "content-type",
         "application/javascript"
        ]
       ],
       "ok": true,
       "status": 200,
       "status_text": ""
      }
     }
    },
    "colab_type": "code",
    "executionInfo": {
     "elapsed": 54498,
     "status": "ok",
     "timestamp": 1594800467700,
     "user": {
      "displayName": "Mohamed Amine Arfaoui",
      "photoUrl": "https://lh3.googleusercontent.com/a-/AOh14GhlzdyV-vGbKI_Jrq1kmSSwYJkbC3L425wSnRWurg=s64",
      "userId": "17208576066499428517"
     },
     "user_tz": 240
    },
    "id": "rGyTkqKcwplF",
    "outputId": "8d688bc6-acc1-49de-8f75-3e07200dbcc3",
    "ExecuteTime": {
     "end_time": "2025-04-22T09:42:42.243361600Z",
     "start_time": "2025-04-22T09:42:42.239363800Z"
    }
   },
   "outputs": [],
   "source": [
    "#from google.colab import files  #本地读入文件 改成注释\n",
    "#uploaded = files.upload()    #本地读入文件 改成注释\n",
    "\n",
    "# from google.colab import drive\n",
    "\n",
    "# drive.mount('/content')"
   ]
  },
  {
   "cell_type": "code",
   "execution_count": 35,
   "metadata": {
    "colab": {},
    "colab_type": "code",
    "id": "kJuCnPxnwSet",
    "ExecuteTime": {
     "end_time": "2025-04-22T09:42:46.110623100Z",
     "start_time": "2025-04-22T09:42:42.678072100Z"
    }
   },
   "outputs": [
    {
     "name": "stdout",
     "output_type": "stream",
     "text": [
      "输入数据维度 (样本数, 特征数): (1000000, 16)\n",
      "标签数据维度 (样本数, 标签数): (1000000, 6)\n"
     ]
    }
   ],
   "source": [
    "#读取CSV文件\n",
    "#原有从云端读入文件 以本地CSV文件形式读入\n",
    "#import io   #本地读入文件 改成注释\n",
    "#X = pd.read_csv(io.BytesIO(uploaded['RSS_total.csv']))    # 输入：16个AP的RSS信号（N×16矩阵）  本地读入原有代码做修改\n",
    "#Y = pd.read_csv(io.BytesIO(uploaded['Label.csv']))        # 输出：标签为位置(x,y,z)和方向(α,β,γ)（N×6矩阵）  本地读入原有代码做修改\n",
    "#import pandas as pd\n",
    "#从本地直接读入文件\n",
    "#X = pd.read_csv('RSS_total.csv', header=None)   # 输入特征（16列）\n",
    "#Y = pd.read_csv('Label.csv', header=None)       # 输出标签（6列）\n",
    "# 验证数据加载\n",
    "#print(\"输入数据维度 (样本数, 特征数):\", X.shape)\n",
    "#print(\"标签数据维度 (样本数, 标签数):\", Y.shape)"
   ]
  },
  {
   "cell_type": "code",
   "execution_count": null,
   "outputs": [],
   "source": [
    "#读取mat文件\n",
    "#原有从云端读入文件 以本地mat文件形式读入\n",
    "import scipy.io\n",
    "# 加载 .mat 文件\n",
    "data_X = scipy.io.loadmat('RSS_total.mat')  # 输入特征\n",
    "data_Y = scipy.io.loadmat('Label.mat')      # 输出标签\n",
    "\n",
    "# 使用正确的变量名进行读取\n",
    "X = data_X['RSS_total']\n",
    "Y = data_Y['Label']\n",
    "\n",
    "# 打印维度确认\n",
    "print(\"输入数据维度 (样本数, 特征数):\", X.shape)\n",
    "print(\"标签数据维度 (样本数, 标签数):\", Y.shape)"
   ],
   "metadata": {
    "collapsed": false
   }
  },
  {
   "cell_type": "code",
   "execution_count": 36,
   "metadata": {
    "colab": {},
    "colab_type": "code",
    "id": "cWUqhrkmwSfI",
    "ExecuteTime": {
     "end_time": "2025-04-22T09:42:46.394815Z",
     "start_time": "2025-04-22T09:42:46.112623900Z"
    }
   },
   "outputs": [],
   "source": [
    "x_train, x_test, y_train, y_test = train_test_split(X, Y, test_size=0.1, random_state=42)  #对训练集和测试集划分"
   ]
  },
  {
   "cell_type": "code",
   "execution_count": 37,
   "metadata": {
    "colab": {
     "base_uri": "https://localhost:8080/",
     "height": 85
    },
    "colab_type": "code",
    "executionInfo": {
     "elapsed": 400,
     "status": "ok",
     "timestamp": 1594801782168,
     "user": {
      "displayName": "Mohamed Amine Arfaoui",
      "photoUrl": "https://lh3.googleusercontent.com/a-/AOh14GhlzdyV-vGbKI_Jrq1kmSSwYJkbC3L425wSnRWurg=s64",
      "userId": "17208576066499428517"
     },
     "user_tz": 240
    },
    "id": "FJJOorUCwSfO",
    "outputId": "8c3af764-bf67-4955-d441-72c81b4b4c16",
    "ExecuteTime": {
     "end_time": "2025-04-22T09:42:46.873885400Z",
     "start_time": "2025-04-22T09:42:46.843798600Z"
    }
   },
   "outputs": [
    {
     "name": "stdout",
     "output_type": "stream",
     "text": [
      "- Training-set:\t\t900000\n",
      "- Test-set:\t\t100000\n",
      " Shape of train target set:(900000, 6)\n",
      " Shape of test target set:(100000, 6)\n"
     ]
    }
   ],
   "source": [
    "print(\"- Training-set:\\t\\t{}\".format(x_train.shape[0]))    \n",
    "print(\"- Test-set:\\t\\t{}\".format(x_test.shape[0]))\n",
    "print(\" Shape of train target set:{}\".format(y_train.shape))\n",
    "print(\" Shape of test target set:{}\".format(y_test.shape))"
   ]
  },
  {
   "cell_type": "code",
   "execution_count": 38,
   "metadata": {
    "colab": {},
    "colab_type": "code",
    "id": "WFLDpQ3RwSfS",
    "ExecuteTime": {
     "end_time": "2025-04-22T09:42:48.263024900Z",
     "start_time": "2025-04-22T09:42:47.982410900Z"
    }
   },
   "outputs": [],
   "source": [
    "#输入标准化 标签标准化   将数据按特征（列）转换为均值为0、标准差为1的分布。 神经网络对输入数据的尺度敏感。1. 若特征量纲差异大（如一个特征范围是-100到100，另一个是0到1，梯度下降过程会不稳定，导致模型收敛困难。 2.加速收敛：标准化后的数据分布更均匀，优化器（如Adam）能更快找到最优解。 3.避免数值溢出：防止某些激活函数（如Sigmoid）在极端输入下饱和。\n",
    "# 输入标准化（X）\n",
    "scalerX = StandardScaler().fit(x_train)       # 基于训练集计算均值和标准差\n",
    "x_train = scalerX.transform(x_train)          # 应用标准化到训练集\n",
    "x_test = scalerX.transform(x_test)            # 使用相同的参数标准化测试集\n",
    "scalerY = StandardScaler().fit(y_train)       # 对标签也进行标准化\n",
    "y_train = scalerY.transform(y_train)"
   ]
  },
  {
   "cell_type": "code",
   "execution_count": 39,
   "metadata": {
    "colab": {},
    "colab_type": "code",
    "id": "fW5qG_RHwSfa",
    "ExecuteTime": {
     "end_time": "2025-04-22T09:42:49.792201Z",
     "start_time": "2025-04-22T09:42:49.763611400Z"
    }
   },
   "outputs": [],
   "source": [
    "dim_in = x_train.shape[1]   # 输入特征维度（16）\n",
    "dim_out = y_train.shape[1]     # 输出维度（6）\n",
    "state_bias = True           #打开偏置\n",
    "kernel_size = 16          # 卷积核大小       卷积窗口覆盖全部16个AP的RSS信号（可能意图捕捉全局依赖）。\n",
    "filters = 64              # 卷积核数量  每层卷积输出64个特征图，增强特征提取能力。\n",
    "p_dropout = 0.2           # Dropout率\n",
    "activation_1 = 'relu'      # 卷积层激活函数\n",
    "activation_2 = 'linear'      # 输出层激活函数 线性"
   ]
  },
  {
   "cell_type": "code",
   "execution_count": 61,
   "metadata": {
    "colab": {},
    "colab_type": "code",
    "id": "4L7WUP445FAZ",
    "ExecuteTime": {
     "end_time": "2025-04-23T00:59:27.977893100Z",
     "start_time": "2025-04-23T00:59:27.851773400Z"
    }
   },
   "outputs": [],
   "source": [
    "##### [改进模块1：模型架构] #####\n",
    "\n",
    "#CNN模型构建\n",
    "#根据DeepSeek优化目标 ： 模型架构简化+池化   减少卷积层数，添加池化层提升特征抽象能力    待改进后的结构为：1. 第一层 （小卷积核+池化）   2. 第二卷（扩大感受野）  3.全连接层\n",
    "\n",
    "model = Sequential()    #创建一个空的线性堆叠神经网络模型，在这个模型上你可以通过 add() 方法逐层构建你的网络。\n",
    "\n",
    "model.add(InputLayer(input_shape=((dim_in))))         # 输入层（16维） \n",
    "model.add(Reshape((dim_in, 1)))                       # 转换为序列格式（16,1） 用于后续层的输入\n",
    "\n",
    "#修改思路：每两层卷积后加池化\n",
    "\n",
    "#第一层卷积块 \n",
    "model.add(Conv1D(kernel_size=kernel_size, filters=filters, strides=1, padding='same', dilation_rate=1, activation=activation_1, use_bias=state_bias, kernel_initializer='glorot_uniform', bias_initializer='zeros', kernel_regularizer=None, bias_regularizer=None, activity_regularizer=None, kernel_constraint=None, bias_constraint=None))\n",
    "model.add(Dropout(p_dropout))    # 随机丢弃20%神经元 设为0.2 \n",
    "model.add(BatchNormalization())    # 批归一化\n",
    "\n",
    "#第二层卷积块\n",
    "model.add(Conv1D(kernel_size=kernel_size, filters=filters, strides=1, padding='same', dilation_rate=1, activation=activation_1, use_bias=state_bias, kernel_initializer='glorot_uniform', bias_initializer='zeros', kernel_regularizer=None, bias_regularizer=None, activity_regularizer=None, kernel_constraint=None, bias_constraint=None))\n",
    "\n",
    "#-------------------------------------------------------------\n",
    "# 修改点1：二层后加入第一个池化层 \n",
    "#model.add(MaxPooling1D(pool_size=2))   # 新增池化层（输出长度从16→8）\n",
    "#-------------------------------------------------------------\n",
    "\n",
    "model.add(Dropout(p_dropout))\n",
    "model.add(BatchNormalization())\n",
    "\n",
    "#第三层卷积块\n",
    "model.add(Conv1D(kernel_size=kernel_size, filters=filters, strides=1, padding='same', dilation_rate=1, activation=activation_1, use_bias=state_bias, kernel_initializer='glorot_uniform', bias_initializer='zeros', kernel_regularizer=None, bias_regularizer=None, activity_regularizer=None, kernel_constraint=None, bias_constraint=None))\n",
    "model.add(Dropout(p_dropout))\n",
    "model.add(BatchNormalization())\n",
    "\n",
    "#第四层卷积块\n",
    "model.add(Conv1D(kernel_size=kernel_size, filters=filters, strides=1, padding='same', dilation_rate=1, activation=activation_1, use_bias=state_bias, kernel_initializer='glorot_uniform', bias_initializer='zeros', kernel_regularizer=None, bias_regularizer=None, activity_regularizer=None, kernel_constraint=None, bias_constraint=None))\n",
    "\n",
    "#-------------------------------------------------------------\n",
    "#修改点2：四层后加入第二个池化层 \n",
    "#model.add(MaxPooling1D(pool_size=2))   # 新增池化层（输出长度从8→4）\n",
    "#-------------------------------------------------------------\n",
    "\n",
    "model.add(Dropout(p_dropout))\n",
    "model.add(BatchNormalization())\n",
    "\n",
    "model.add(Flatten())      # 展平多维特征     # 展平为 (batch_size, 16*64)=1024 维向量\n",
    "model.add(Dense(dim_out, use_bias=state_bias, activation=activation_2))     # 输出层   展平后接全连接层输出6个回归值。"
   ]
  },
  {
   "cell_type": "code",
   "execution_count": 62,
   "metadata": {
    "colab": {
     "base_uri": "https://localhost:8080/",
     "height": 595
    },
    "colab_type": "code",
    "executionInfo": {
     "elapsed": 304,
     "status": "ok",
     "timestamp": 1594801276444,
     "user": {
      "displayName": "Mohamed Amine Arfaoui",
      "photoUrl": "https://lh3.googleusercontent.com/a-/AOh14GhlzdyV-vGbKI_Jrq1kmSSwYJkbC3L425wSnRWurg=s64",
      "userId": "17208576066499428517"
     },
     "user_tz": 240
    },
    "id": "IqmqfNh4wSfn",
    "outputId": "d54c6491-ad4e-4d11-ae0c-efa9bcbe76d7",
    "ExecuteTime": {
     "end_time": "2025-04-23T00:59:28.882940600Z",
     "start_time": "2025-04-23T00:59:28.844906900Z"
    }
   },
   "outputs": [
    {
     "name": "stdout",
     "output_type": "stream",
     "text": [
      "Model: \"sequential_4\"\n",
      "_________________________________________________________________\n",
      " Layer (type)                Output Shape              Param #   \n",
      "=================================================================\n",
      " reshape_4 (Reshape)         (None, 16, 1)             0         \n",
      "                                                                 \n",
      " conv1d_16 (Conv1D)          (None, 16, 64)            1088      \n",
      "                                                                 \n",
      " dropout_16 (Dropout)        (None, 16, 64)            0         \n",
      "                                                                 \n",
      " batch_normalization_16 (Bat  (None, 16, 64)           256       \n",
      " chNormalization)                                                \n",
      "                                                                 \n",
      " conv1d_17 (Conv1D)          (None, 16, 64)            65600     \n",
      "                                                                 \n",
      " dropout_17 (Dropout)        (None, 16, 64)            0         \n",
      "                                                                 \n",
      " batch_normalization_17 (Bat  (None, 16, 64)           256       \n",
      " chNormalization)                                                \n",
      "                                                                 \n",
      " conv1d_18 (Conv1D)          (None, 16, 64)            65600     \n",
      "                                                                 \n",
      " dropout_18 (Dropout)        (None, 16, 64)            0         \n",
      "                                                                 \n",
      " batch_normalization_18 (Bat  (None, 16, 64)           256       \n",
      " chNormalization)                                                \n",
      "                                                                 \n",
      " conv1d_19 (Conv1D)          (None, 16, 64)            65600     \n",
      "                                                                 \n",
      " dropout_19 (Dropout)        (None, 16, 64)            0         \n",
      "                                                                 \n",
      " batch_normalization_19 (Bat  (None, 16, 64)           256       \n",
      " chNormalization)                                                \n",
      "                                                                 \n",
      " flatten_4 (Flatten)         (None, 1024)              0         \n",
      "                                                                 \n",
      " dense_4 (Dense)             (None, 6)                 6150      \n",
      "                                                                 \n",
      "=================================================================\n",
      "Total params: 205,062\n",
      "Trainable params: 204,550\n",
      "Non-trainable params: 512\n",
      "_________________________________________________________________\n"
     ]
    }
   ],
   "source": [
    "model.summary()"
   ]
  },
  {
   "cell_type": "code",
   "execution_count": 63,
   "metadata": {
    "colab": {},
    "colab_type": "code",
    "id": "bNcJWyM9wSfr",
    "ExecuteTime": {
     "end_time": "2025-04-23T00:59:29.461697800Z",
     "start_time": "2025-04-23T00:59:29.440678100Z"
    }
   },
   "outputs": [],
   "source": [
    "# 模型编译与训练\n",
    "optimizer = Adam(learning_rate=0.001, beta_1=0.9, beta_2=0.999, amsgrad=False)   #Adam优化器参数\n",
    "model.compile(optimizer=optimizer, loss='mse',  metrics=['mae'])     #损失函数：均方误差（Mean Squared Error）      # 评估指标：平均绝对误差（MAE）和MSE"
   ]
  },
  {
   "cell_type": "code",
   "execution_count": 64,
   "outputs": [
    {
     "name": "stdout",
     "output_type": "stream",
     "text": [
      "Epoch 1/30\n",
      "5625/5625 [==============================] - 200s 35ms/step - loss: 0.4617 - mae: 0.4185 - val_loss: 0.3512 - val_mae: 0.3167\n",
      "Epoch 2/30\n",
      "5625/5625 [==============================] - 195s 35ms/step - loss: 0.3713 - mae: 0.3527 - val_loss: 0.3245 - val_mae: 0.2988\n",
      "Epoch 3/30\n",
      "5625/5625 [==============================] - 195s 35ms/step - loss: 0.3551 - mae: 0.3405 - val_loss: 0.3145 - val_mae: 0.2901\n",
      "Epoch 4/30\n",
      "5625/5625 [==============================] - 201s 36ms/step - loss: 0.3471 - mae: 0.3349 - val_loss: 0.3065 - val_mae: 0.2803\n",
      "Epoch 5/30\n",
      "5625/5625 [==============================] - 195s 35ms/step - loss: 0.3415 - mae: 0.3311 - val_loss: 0.3037 - val_mae: 0.2782\n",
      "Epoch 6/30\n",
      "5625/5625 [==============================] - 203s 36ms/step - loss: 0.3377 - mae: 0.3286 - val_loss: 0.2964 - val_mae: 0.2752\n",
      "Epoch 7/30\n",
      "5625/5625 [==============================] - 199s 35ms/step - loss: 0.3350 - mae: 0.3267 - val_loss: 0.2997 - val_mae: 0.2756\n",
      "Epoch 8/30\n",
      "5625/5625 [==============================] - 195s 35ms/step - loss: 0.3324 - mae: 0.3249 - val_loss: 0.2836 - val_mae: 0.2632\n",
      "Epoch 9/30\n",
      "5625/5625 [==============================] - 195s 35ms/step - loss: 0.3307 - mae: 0.3237 - val_loss: 0.2870 - val_mae: 0.2664\n",
      "Epoch 10/30\n",
      "5625/5625 [==============================] - 198s 35ms/step - loss: 0.3288 - mae: 0.3225 - val_loss: 0.2849 - val_mae: 0.2630\n",
      "Epoch 11/30\n",
      "5625/5625 [==============================] - 196s 35ms/step - loss: 0.3274 - mae: 0.3216 - val_loss: 0.2821 - val_mae: 0.2630\n",
      "Epoch 12/30\n",
      "5625/5625 [==============================] - 195s 35ms/step - loss: 0.3258 - mae: 0.3207 - val_loss: 0.2933 - val_mae: 0.2762\n",
      "Epoch 13/30\n",
      "5625/5625 [==============================] - 192s 34ms/step - loss: 0.3245 - mae: 0.3197 - val_loss: 0.2808 - val_mae: 0.2601\n",
      "Epoch 14/30\n",
      "5625/5625 [==============================] - 188s 33ms/step - loss: 0.3234 - mae: 0.3190 - val_loss: 0.2769 - val_mae: 0.2615\n",
      "Epoch 15/30\n",
      "5625/5625 [==============================] - 191s 34ms/step - loss: 0.3223 - mae: 0.3183 - val_loss: 0.2751 - val_mae: 0.2586\n",
      "Epoch 16/30\n",
      "5625/5625 [==============================] - 196s 35ms/step - loss: 0.3216 - mae: 0.3178 - val_loss: 0.2871 - val_mae: 0.2748\n",
      "Epoch 17/30\n",
      "5625/5625 [==============================] - 197s 35ms/step - loss: 0.3205 - mae: 0.3171 - val_loss: 0.2805 - val_mae: 0.2633\n",
      "Epoch 18/30\n",
      "5625/5625 [==============================] - 198s 35ms/step - loss: 0.3198 - mae: 0.3166 - val_loss: 0.2778 - val_mae: 0.2634\n",
      "Epoch 19/30\n",
      "5625/5625 [==============================] - 201s 36ms/step - loss: 0.3191 - mae: 0.3161 - val_loss: 0.2807 - val_mae: 0.2617\n",
      "Epoch 20/30\n",
      "5625/5625 [==============================] - 201s 36ms/step - loss: 0.3185 - mae: 0.3158 - val_loss: 0.2745 - val_mae: 0.2590\n",
      "Epoch 21/30\n",
      "5625/5625 [==============================] - 201s 36ms/step - loss: 0.3174 - mae: 0.3152 - val_loss: 0.2786 - val_mae: 0.2658\n",
      "Epoch 22/30\n",
      "5625/5625 [==============================] - 200s 36ms/step - loss: 0.3172 - mae: 0.3150 - val_loss: 0.2780 - val_mae: 0.2610\n",
      "Epoch 23/30\n",
      "5625/5625 [==============================] - 200s 36ms/step - loss: 0.3164 - mae: 0.3144 - val_loss: 0.2791 - val_mae: 0.2595\n",
      "Epoch 24/30\n",
      "5625/5625 [==============================] - 200s 36ms/step - loss: 0.3157 - mae: 0.3141 - val_loss: 0.2758 - val_mae: 0.2589\n",
      "Epoch 25/30\n",
      "5625/5625 [==============================] - 201s 36ms/step - loss: 0.3153 - mae: 0.3138 - val_loss: 0.2683 - val_mae: 0.2525\n",
      "Epoch 26/30\n",
      "5625/5625 [==============================] - 202s 36ms/step - loss: 0.3150 - mae: 0.3136 - val_loss: 0.2722 - val_mae: 0.2536\n",
      "Epoch 27/30\n",
      "5625/5625 [==============================] - 202s 36ms/step - loss: 0.3144 - mae: 0.3130 - val_loss: 0.2793 - val_mae: 0.2603\n",
      "Epoch 28/30\n",
      "5625/5625 [==============================] - 204s 36ms/step - loss: 0.3136 - mae: 0.3126 - val_loss: 0.2705 - val_mae: 0.2537\n",
      "Epoch 29/30\n",
      "5625/5625 [==============================] - 205s 36ms/step - loss: 0.3134 - mae: 0.3126 - val_loss: 0.2789 - val_mae: 0.2644\n",
      "Epoch 30/30\n",
      "5625/5625 [==============================] - 206s 37ms/step - loss: 0.3128 - mae: 0.3122 - val_loss: 0.2738 - val_mae: 0.2573\n"
     ]
    },
    {
     "data": {
      "text/plain": "        loss       mae  val_loss   val_mae  epoch\n0   0.461729  0.418507  0.351219  0.316656      0\n1   0.371298  0.352724  0.324456  0.298801      1\n2   0.355068  0.340493  0.314537  0.290112      2\n3   0.347139  0.334905  0.306483  0.280261      3\n4   0.341484  0.331112  0.303729  0.278201      4\n5   0.337718  0.328643  0.296363  0.275234      5\n6   0.335020  0.326693  0.299732  0.275583      6\n7   0.332353  0.324920  0.283648  0.263197      7\n8   0.330683  0.323736  0.287011  0.266407      8\n9   0.328755  0.322481  0.284857  0.263049      9\n10  0.327402  0.321636  0.282062  0.263044     10\n11  0.325754  0.320650  0.293282  0.276168     11\n12  0.324521  0.319707  0.280785  0.260116     12\n13  0.323399  0.318990  0.276879  0.261502     13\n14  0.322272  0.318295  0.275054  0.258636     14\n15  0.321627  0.317803  0.287098  0.274770     15\n16  0.320537  0.317101  0.280485  0.263250     16\n17  0.319767  0.316594  0.277773  0.263364     17\n18  0.319113  0.316085  0.280749  0.261666     18\n19  0.318540  0.315831  0.274527  0.258978     19\n20  0.317376  0.315190  0.278556  0.265772     20\n21  0.317171  0.315001  0.277962  0.260978     21\n22  0.316404  0.314420  0.279051  0.259460     22\n23  0.315719  0.314091  0.275828  0.258877     23\n24  0.315302  0.313764  0.268272  0.252456     24\n25  0.314984  0.313637  0.272238  0.253645     25\n26  0.314391  0.313042  0.279303  0.260308     26\n27  0.313634  0.312622  0.270532  0.253712     27\n28  0.313429  0.312552  0.278876  0.264379     28\n29  0.312804  0.312226  0.273760  0.257304     29",
      "text/html": "<div>\n<style scoped>\n    .dataframe tbody tr th:only-of-type {\n        vertical-align: middle;\n    }\n\n    .dataframe tbody tr th {\n        vertical-align: top;\n    }\n\n    .dataframe thead th {\n        text-align: right;\n    }\n</style>\n<table border=\"1\" class=\"dataframe\">\n  <thead>\n    <tr style=\"text-align: right;\">\n      <th></th>\n      <th>loss</th>\n      <th>mae</th>\n      <th>val_loss</th>\n      <th>val_mae</th>\n      <th>epoch</th>\n    </tr>\n  </thead>\n  <tbody>\n    <tr>\n      <th>0</th>\n      <td>0.461729</td>\n      <td>0.418507</td>\n      <td>0.351219</td>\n      <td>0.316656</td>\n      <td>0</td>\n    </tr>\n    <tr>\n      <th>1</th>\n      <td>0.371298</td>\n      <td>0.352724</td>\n      <td>0.324456</td>\n      <td>0.298801</td>\n      <td>1</td>\n    </tr>\n    <tr>\n      <th>2</th>\n      <td>0.355068</td>\n      <td>0.340493</td>\n      <td>0.314537</td>\n      <td>0.290112</td>\n      <td>2</td>\n    </tr>\n    <tr>\n      <th>3</th>\n      <td>0.347139</td>\n      <td>0.334905</td>\n      <td>0.306483</td>\n      <td>0.280261</td>\n      <td>3</td>\n    </tr>\n    <tr>\n      <th>4</th>\n      <td>0.341484</td>\n      <td>0.331112</td>\n      <td>0.303729</td>\n      <td>0.278201</td>\n      <td>4</td>\n    </tr>\n    <tr>\n      <th>5</th>\n      <td>0.337718</td>\n      <td>0.328643</td>\n      <td>0.296363</td>\n      <td>0.275234</td>\n      <td>5</td>\n    </tr>\n    <tr>\n      <th>6</th>\n      <td>0.335020</td>\n      <td>0.326693</td>\n      <td>0.299732</td>\n      <td>0.275583</td>\n      <td>6</td>\n    </tr>\n    <tr>\n      <th>7</th>\n      <td>0.332353</td>\n      <td>0.324920</td>\n      <td>0.283648</td>\n      <td>0.263197</td>\n      <td>7</td>\n    </tr>\n    <tr>\n      <th>8</th>\n      <td>0.330683</td>\n      <td>0.323736</td>\n      <td>0.287011</td>\n      <td>0.266407</td>\n      <td>8</td>\n    </tr>\n    <tr>\n      <th>9</th>\n      <td>0.328755</td>\n      <td>0.322481</td>\n      <td>0.284857</td>\n      <td>0.263049</td>\n      <td>9</td>\n    </tr>\n    <tr>\n      <th>10</th>\n      <td>0.327402</td>\n      <td>0.321636</td>\n      <td>0.282062</td>\n      <td>0.263044</td>\n      <td>10</td>\n    </tr>\n    <tr>\n      <th>11</th>\n      <td>0.325754</td>\n      <td>0.320650</td>\n      <td>0.293282</td>\n      <td>0.276168</td>\n      <td>11</td>\n    </tr>\n    <tr>\n      <th>12</th>\n      <td>0.324521</td>\n      <td>0.319707</td>\n      <td>0.280785</td>\n      <td>0.260116</td>\n      <td>12</td>\n    </tr>\n    <tr>\n      <th>13</th>\n      <td>0.323399</td>\n      <td>0.318990</td>\n      <td>0.276879</td>\n      <td>0.261502</td>\n      <td>13</td>\n    </tr>\n    <tr>\n      <th>14</th>\n      <td>0.322272</td>\n      <td>0.318295</td>\n      <td>0.275054</td>\n      <td>0.258636</td>\n      <td>14</td>\n    </tr>\n    <tr>\n      <th>15</th>\n      <td>0.321627</td>\n      <td>0.317803</td>\n      <td>0.287098</td>\n      <td>0.274770</td>\n      <td>15</td>\n    </tr>\n    <tr>\n      <th>16</th>\n      <td>0.320537</td>\n      <td>0.317101</td>\n      <td>0.280485</td>\n      <td>0.263250</td>\n      <td>16</td>\n    </tr>\n    <tr>\n      <th>17</th>\n      <td>0.319767</td>\n      <td>0.316594</td>\n      <td>0.277773</td>\n      <td>0.263364</td>\n      <td>17</td>\n    </tr>\n    <tr>\n      <th>18</th>\n      <td>0.319113</td>\n      <td>0.316085</td>\n      <td>0.280749</td>\n      <td>0.261666</td>\n      <td>18</td>\n    </tr>\n    <tr>\n      <th>19</th>\n      <td>0.318540</td>\n      <td>0.315831</td>\n      <td>0.274527</td>\n      <td>0.258978</td>\n      <td>19</td>\n    </tr>\n    <tr>\n      <th>20</th>\n      <td>0.317376</td>\n      <td>0.315190</td>\n      <td>0.278556</td>\n      <td>0.265772</td>\n      <td>20</td>\n    </tr>\n    <tr>\n      <th>21</th>\n      <td>0.317171</td>\n      <td>0.315001</td>\n      <td>0.277962</td>\n      <td>0.260978</td>\n      <td>21</td>\n    </tr>\n    <tr>\n      <th>22</th>\n      <td>0.316404</td>\n      <td>0.314420</td>\n      <td>0.279051</td>\n      <td>0.259460</td>\n      <td>22</td>\n    </tr>\n    <tr>\n      <th>23</th>\n      <td>0.315719</td>\n      <td>0.314091</td>\n      <td>0.275828</td>\n      <td>0.258877</td>\n      <td>23</td>\n    </tr>\n    <tr>\n      <th>24</th>\n      <td>0.315302</td>\n      <td>0.313764</td>\n      <td>0.268272</td>\n      <td>0.252456</td>\n      <td>24</td>\n    </tr>\n    <tr>\n      <th>25</th>\n      <td>0.314984</td>\n      <td>0.313637</td>\n      <td>0.272238</td>\n      <td>0.253645</td>\n      <td>25</td>\n    </tr>\n    <tr>\n      <th>26</th>\n      <td>0.314391</td>\n      <td>0.313042</td>\n      <td>0.279303</td>\n      <td>0.260308</td>\n      <td>26</td>\n    </tr>\n    <tr>\n      <th>27</th>\n      <td>0.313634</td>\n      <td>0.312622</td>\n      <td>0.270532</td>\n      <td>0.253712</td>\n      <td>27</td>\n    </tr>\n    <tr>\n      <th>28</th>\n      <td>0.313429</td>\n      <td>0.312552</td>\n      <td>0.278876</td>\n      <td>0.264379</td>\n      <td>28</td>\n    </tr>\n    <tr>\n      <th>29</th>\n      <td>0.312804</td>\n      <td>0.312226</td>\n      <td>0.273760</td>\n      <td>0.257304</td>\n      <td>29</td>\n    </tr>\n  </tbody>\n</table>\n</div>"
     },
     "metadata": {},
     "output_type": "display_data"
    },
    {
     "name": "stdout",
     "output_type": "stream",
     "text": [
      "Wall time: 1h 39min 13s\n"
     ]
    }
   ],
   "source": [
    "%%time\n",
    "#必须位于单元格第一行 前面不能有任何注释\n",
    "#模型训练 完整遍历训练集30次   每次梯度更新使用batch_size=128个样本         validation_split=0.2 从训练集划出20%作为验证集（不参与训练），监控过拟合。\n",
    "\n",
    "history = model.fit(x=x_train, y=y_train, epochs=30, batch_size=128, validation_split=0.2,verbose=1)\n",
    "\n",
    "hist = pd.DataFrame(history.history)    # 转换为DataFrame\n",
    "hist['epoch'] = history.epoch     # 添加epoch列\n",
    "#hist   #展示\n",
    "display(hist)  # 使用 display() 替代直接写 hist 以增强可视化\n",
    "hist.to_csv('hist_total_.csv', index=False)     # 保存为CSV文件\n",
    "#按照Deepseek建议合并单元格  确保变量作用域连续"
   ],
   "metadata": {
    "collapsed": false,
    "ExecuteTime": {
     "end_time": "2025-04-23T02:38:43.237933300Z",
     "start_time": "2025-04-23T00:59:30.074550200Z"
    }
   }
  },
  {
   "cell_type": "code",
   "execution_count": 65,
   "metadata": {
    "colab": {
     "base_uri": "https://localhost:8080/",
     "height": 979
    },
    "colab_type": "code",
    "executionInfo": {
     "elapsed": 589,
     "status": "ok",
     "timestamp": 1594801638845,
     "user": {
      "displayName": "Mohamed Amine Arfaoui",
      "photoUrl": "https://lh3.googleusercontent.com/a-/AOh14GhlzdyV-vGbKI_Jrq1kmSSwYJkbC3L425wSnRWurg=s64",
      "userId": "17208576066499428517"
     },
     "user_tz": 240
    },
    "id": "IpFrdRPewSfz",
    "outputId": "894b51fe-782f-4718-e541-85476cf2855e",
    "ExecuteTime": {
     "end_time": "2025-04-23T05:04:25.548197500Z",
     "start_time": "2025-04-23T05:04:25.531182100Z"
    }
   },
   "outputs": [],
   "source": [
    "#按照Deepseek建议合并单元格  确保变量作用域连续"
   ]
  },
  {
   "cell_type": "code",
   "execution_count": 66,
   "outputs": [
    {
     "name": "stdout",
     "output_type": "stream",
     "text": [
      "当前版本: 3.5.3\n"
     ]
    }
   ],
   "source": [
    "import matplotlib\n",
    "print(\"当前版本:\", matplotlib.__version__)  # 正确输出（例如 3.8.2）"
   ],
   "metadata": {
    "collapsed": false,
    "ExecuteTime": {
     "end_time": "2025-04-23T05:04:26.399305600Z",
     "start_time": "2025-04-23T05:04:26.371254200Z"
    }
   }
  },
  {
   "cell_type": "code",
   "execution_count": 67,
   "metadata": {
    "colab": {
     "base_uri": "https://localhost:8080/",
     "height": 295
    },
    "colab_type": "code",
    "executionInfo": {
     "elapsed": 451,
     "status": "ok",
     "timestamp": 1594801647490,
     "user": {
      "displayName": "Mohamed Amine Arfaoui",
      "photoUrl": "https://lh3.googleusercontent.com/a-/AOh14GhlzdyV-vGbKI_Jrq1kmSSwYJkbC3L425wSnRWurg=s64",
      "userId": "17208576066499428517"
     },
     "user_tz": 240
    },
    "id": "Gk9sWQFKwSf7",
    "outputId": "ef4e68f7-6cd1-45d7-cf12-1fd584998542",
    "ExecuteTime": {
     "end_time": "2025-04-23T05:04:27.236434800Z",
     "start_time": "2025-04-23T05:04:27.122329600Z"
    }
   },
   "outputs": [
    {
     "data": {
      "text/plain": "<Figure size 640x480 with 1 Axes>",
      "image/png": "[encoded data removed]"
     },
     "metadata": {},
     "output_type": "display_data"
    },
    {
     "name": "stderr",
     "output_type": "stream",
     "text": [
      "UsageError: unrecognized arguments: # Jupyter内嵌显示图表\n"
     ]
    }
   ],
   "source": [
    "# 损失曲线可视化\n",
    "import matplotlib.pyplot as plt    \n",
    "plt.plot(history.history['loss'])\n",
    "plt.plot(history.history['val_loss'])\n",
    "plt.title('model loss')\n",
    "plt.ylabel('loss')\n",
    "plt.legend(['training','validation'])\n",
    "plt.xlabel('epoch')\n",
    "plt.show()\n",
    "%matplotlib inline        # Jupyter内嵌显示图表"
   ]
  },
  {
   "cell_type": "code",
   "execution_count": 68,
   "metadata": {
    "colab": {
     "base_uri": "https://localhost:8080/",
     "height": 51
    },
    "colab_type": "code",
    "executionInfo": {
     "elapsed": 631,
     "status": "ok",
     "timestamp": 1594801812042,
     "user": {
      "displayName": "Mohamed Amine Arfaoui",
      "photoUrl": "https://lh3.googleusercontent.com/a-/AOh14GhlzdyV-vGbKI_Jrq1kmSSwYJkbC3L425wSnRWurg=s64",
      "userId": "17208576066499428517"
     },
     "user_tz": 240
    },
    "id": "vN66d8FZwSf-",
    "outputId": "556cf63e-9a96-45c2-f1c9-6c861492a697",
    "ExecuteTime": {
     "end_time": "2025-04-23T05:04:40.537618400Z",
     "start_time": "2025-04-23T05:04:28.556315600Z"
    }
   },
   "outputs": [
    {
     "name": "stdout",
     "output_type": "stream",
     "text": [
      "3125/3125 [==============================] - 11s 4ms/step\n",
      "Wall time: 12 s\n"
     ]
    }
   ],
   "source": [
    "%%time\n",
    "y_predict = model.predict(x_test)     # 预测测试集（标准化输入）"
   ]
  },
  {
   "cell_type": "code",
   "execution_count": 69,
   "metadata": {
    "colab": {},
    "colab_type": "code",
    "id": "jSc4Xy7LtxeZ",
    "ExecuteTime": {
     "end_time": "2025-04-23T05:05:25.157820200Z",
     "start_time": "2025-04-23T05:05:25.132797400Z"
    }
   },
   "outputs": [],
   "source": [
    "y_predict = scalerY.inverse_transform(y_predict)  # 反标准化（还原物理量纲）需将其转换回原始物理单位（如米、弧度），才能与实际标签（y_test）进行有意义比较。"
   ]
  },
  {
   "cell_type": "code",
   "execution_count": 70,
   "metadata": {
    "colab": {},
    "colab_type": "code",
    "id": "GUk_Dt2HwSgX",
    "ExecuteTime": {
     "end_time": "2025-04-23T05:05:26.871706600Z",
     "start_time": "2025-04-23T05:05:25.704549300Z"
    }
   },
   "outputs": [],
   "source": [
    "y_test = pd.DataFrame(y_test)            # 转换真实标签为DataFrame\n",
    "y_test.to_csv('y_test_total.csv', index=False)     # 存储测试集的真实标签值（即真实的位置和方向数据）\n",
    "y_predict = pd.DataFrame(y_predict)             # 转换预测结果为DataFrame\n",
    "y_predict.to_csv('y_predict_total.csv', index=False)      # 存储模型对测试集的预测结果（即模型预测的位置和方向数据）"
   ]
  },
  {
   "cell_type": "code",
   "execution_count": 71,
   "outputs": [
    {
     "name": "stdout",
     "output_type": "stream",
     "text": [
      "\n",
      "==================================================\n",
      "维度       | MAE        | RMSE      \n",
      "--------------------------------------------------\n",
      "x        | 0.0636     | 0.0907    \n",
      "y        | 0.0716     | 0.1012    \n",
      "z        | 0.0475     | 0.0649    \n",
      "alpha    | 0.1913     | 0.5276    \n",
      "beta     | 0.0219     | 0.0301    \n",
      "gamma    | 0.0271     | 0.0384    \n",
      "==================================================\n",
      "三维空间位置误差:\n",
      "- MAE: 0.1229\n",
      "- RMSE: 0.1506\n",
      "==================================================\n"
     ]
    }
   ],
   "source": [
    "#添加结果计算部分 MAE和 RMSE\n",
    "\n",
    "import pandas as pd\n",
    "import numpy as np\n",
    "from sklearn.metrics import mean_absolute_error, mean_squared_error\n",
    "# ============================================\n",
    "# 1. 加载数据（假设文件在当前路径）\n",
    "# ============================================\n",
    "# 读取真实值和预测值（若文件有表头则移除 header=None）\n",
    "columns = ['x', 'y', 'z', 'alpha', 'beta', 'gamma']    # 定义列名（与数据顺序严格对应）\n",
    "y_result_true = pd.read_csv('y_test_total.csv', names=columns)\n",
    "y_result_pred = pd.read_csv('y_predict_total.csv', names=columns)\n",
    "#对读取数据进行校验    检查是否有缺失值\n",
    "#print(\"真实标签缺失值统计:\\n\", y_result_true.isnull().sum())\n",
    "#print(\"\\n预测值缺失值统计:\\n\", y_result_pred.isnull().sum())\n",
    "\n",
    "# 2. 分维度计算 MAE 和 RMSE\n",
    "# ============================================\n",
    "metrics = {}     # 初始化存储结果的字典\n",
    "for col in columns:\n",
    "    # 单维度误差计算\n",
    "   \n",
    "    true_col = y_result_true[col]   # 提取当前维度的真实值\n",
    "    pred_col = y_result_pred[col]   # 提取当前维度的预测值\n",
    "\n",
    "\n",
    "    # 计算平均绝对误差 (MAE)\n",
    "    mae = mean_absolute_error(true_col, pred_col)\n",
    "\n",
    "    # 计算均方根误差 (RMSE)\n",
    "    rmse = np.sqrt(mean_squared_error(true_col, pred_col))\n",
    "\n",
    "    # 存储结果在metrics中\n",
    "    metrics[col] = {'MAE': mae, 'RMSE': rmse}\n",
    "\n",
    "\n",
    "# ============================================\n",
    "# 3. 计算三维空间位置误差  \n",
    "# ============================================\n",
    "# 提取位置坐标（前三列：x, y, z）\n",
    "pos_true = y_result_true[['x', 'y', 'z']].values  # 转换为NumPy数组\n",
    "pos_pred = y_result_pred[['x', 'y', 'z']].values\n",
    "\n",
    "# 计算每个样本的三维欧氏距离误差  # 公式：sqrt( (x_true - x_pred)^2 + (y_true - y_pred)^2 + (z_true - z_pred)^2 )\n",
    "position_errors = np.sqrt(np.sum((pos_true - pos_pred)**2, axis=1))\n",
    "\n",
    "# 计算整体指标\n",
    "mae_3d = np.mean(position_errors)        # 总的三维误差的MAE\n",
    "rmse_3d = np.sqrt(np.mean(position_errors**2))  # 总的三维误差的RMSE\n",
    "\n",
    "\n",
    "# 计算整体 MAE 和 RMSE\n",
    "mae_3d = np.mean(position_errors)\n",
    "rmse_3d = np.sqrt(np.mean(position_errors**2))\n",
    "\n",
    "# ============================================\n",
    "# 4. 结果输出\n",
    "# ============================================\n",
    "# 打印分维度结果表头\n",
    "print(\"\\n\" + \"=\"*50)\n",
    "print(\"{:<8} | {:<10} | {:<10}\".format(\"维度\", \"MAE\", \"RMSE\"))\n",
    "print(\"-\"*50)\n",
    "\n",
    "# 逐行打印每个维度的指标\n",
    "for col in columns:\n",
    "    print(\"{:<8} | {:<10.4f} | {:<10.4f}\".format(\n",
    "        col,\n",
    "        metrics[col]['MAE'],\n",
    "        metrics[col]['RMSE']\n",
    "    ))\n",
    "\n",
    "# 打印三维位置误差结果\n",
    "print(\"=\"*50)\n",
    "print(\"三维空间位置误差:\")\n",
    "print(f\"- MAE: {mae_3d:.4f}\")\n",
    "print(f\"- RMSE: {rmse_3d:.4f}\")\n",
    "print(\"=\"*50)\n"
   ],
   "metadata": {
    "collapsed": false,
    "ExecuteTime": {
     "end_time": "2025-04-23T05:05:27.770544800Z",
     "start_time": "2025-04-23T05:05:27.575365300Z"
    }
   }
  },
  {
   "cell_type": "code",
   "execution_count": 72,
   "outputs": [],
   "source": [
    "#以下部分是一个独立的K近邻回归模型，与CNN无关   目的：作为基线模型（Baseline），用于对比CNN模型的性能（例如比较两者的MAE/MSE）。\n"
   ],
   "metadata": {
    "collapsed": false,
    "ExecuteTime": {
     "end_time": "2025-04-23T05:05:33.330282700Z",
     "start_time": "2025-04-23T05:05:33.305260100Z"
    }
   }
  },
  {
   "cell_type": "code",
   "execution_count": 73,
   "metadata": {
    "colab": {},
    "colab_type": "code",
    "id": "I8MvVTYCPcGD",
    "ExecuteTime": {
     "end_time": "2025-04-23T05:05:34.697080900Z",
     "start_time": "2025-04-23T05:05:34.673521Z"
    }
   },
   "outputs": [],
   "source": [
    "#from sklearn.neighbors import KNeighborsRegressor\n",
    "#neigh = KNeighborsRegressor(n_neighbors=4)"
   ]
  },
  {
   "cell_type": "code",
   "execution_count": 74,
   "outputs": [
    {
     "name": "stdout",
     "output_type": "stream",
     "text": [
      "Wall time: 0 ns\n"
     ]
    }
   ],
   "source": [
    "%%time\n",
    "#neigh.fit(x_train, y_train)"
   ],
   "metadata": {
    "collapsed": false,
    "ExecuteTime": {
     "end_time": "2025-04-23T05:05:35.152924700Z",
     "start_time": "2025-04-23T05:05:35.139912100Z"
    }
   }
  },
  {
   "cell_type": "code",
   "execution_count": 58,
   "metadata": {
    "colab": {
     "base_uri": "https://localhost:8080/",
     "height": 51
    },
    "colab_type": "code",
    "executionInfo": {
     "elapsed": 305,
     "status": "ok",
     "timestamp": 1594801834663,
     "user": {
      "displayName": "Mohamed Amine Arfaoui",
      "photoUrl": "https://lh3.googleusercontent.com/a-/AOh14GhlzdyV-vGbKI_Jrq1kmSSwYJkbC3L425wSnRWurg=s64",
      "userId": "17208576066499428517"
     },
     "user_tz": 240
    },
    "id": "99ZF15Kp2Huk",
    "outputId": "9edda107-6081-475f-cf82-12f588868305",
    "ExecuteTime": {
     "end_time": "2025-04-22T23:44:32.034561200Z",
     "start_time": "2025-04-22T23:44:32.007535900Z"
    }
   },
   "outputs": [
    {
     "name": "stdout",
     "output_type": "stream",
     "text": [
      "Wall time: 0 ns\n"
     ]
    }
   ],
   "source": [
    "%%time\n",
    "#y_predict = neigh.predict(x_test)"
   ]
  },
  {
   "cell_type": "code",
   "execution_count": 1,
   "outputs": [
    {
     "name": "stdout",
     "output_type": "stream",
     "text": [
      "1.21.6\n"
     ]
    }
   ],
   "source": [
    "import numpy as np\n",
    "print(np.__version__)"
   ],
   "metadata": {
    "collapsed": false,
    "ExecuteTime": {
     "end_time": "2025-04-23T06:38:12.585221900Z",
     "start_time": "2025-04-23T06:38:12.039822600Z"
    }
   }
  }
 ],
 "metadata": {
  "colab": {
   "name": "Regression_CNN_v01.ipynb",
   "provenance": []
  },
  "kernelspec": {
   "display_name": "Python 3 (ipykernel)",
   "language": "python",
   "name": "python3"
  },
  "language_info": {
   "codemirror_mode": {
    "name": "ipython",
    "version": 3
   },
   "file_extension": ".py",
   "mimetype": "text/x-python",
   "name": "python",
   "nbconvert_exporter": "python",
   "pygments_lexer": "ipython3",
   "version": "3.7.6"
  }
 },
 "nbformat": 4,
 "nbformat_minor": 1
}
